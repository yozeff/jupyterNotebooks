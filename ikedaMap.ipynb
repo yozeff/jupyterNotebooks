{
 "cells": [
  {
   "cell_type": "code",
   "execution_count": 7,
   "metadata": {},
   "outputs": [
    {
     "data": {
      "application/vnd.jupyter.widget-view+json": {
       "model_id": "1ca02254abfd458786271ef2b0c3c7e5",
       "version_major": 2,
       "version_minor": 0
      },
      "text/plain": [
       "interactive(children=(FloatSlider(value=0.5, description='x', max=1.5, min=-0.5), FloatSlider(value=0.5, descr…"
      ]
     },
     "metadata": {},
     "output_type": "display_data"
    }
   ],
   "source": [
    "import matplotlib.pyplot as plt\n",
    "import math as m\n",
    "from ipywidgets import interact\n",
    "\n",
    "#passes initial points, u\n",
    "#and iterations I\n",
    "def compute_ikeda_map(x,y,u,I):\n",
    "    for i in range(I):\n",
    "        t = 0.4 - 6 / (1 + x ** 2 + y ** 2)\n",
    "        #compute next points\n",
    "        X = 1 + u * (x * m.cos(t) - y * m.sin(t))\n",
    "        Y = u * (x * m.sin(t) + y * m.cos(t))\n",
    "        yield X,Y\n",
    "        x, y = X, Y\n",
    "\n",
    "#plot ikeda map given a generator\n",
    "def plot_data(datagen):\n",
    "    plt.plot(*zip(*datagen),'o',markersize=0.5)\n",
    "    plt.show()\n",
    "    \n",
    "@interact(x=0.5,y=0.5,u=0.5,I=1000)\n",
    "def ikeda_map(x,y,u,I):\n",
    "    datagen = compute_ikeda_map(x,y,u,I)\n",
    "    plot_data(datagen)"
   ]
  },
  {
   "cell_type": "code",
   "execution_count": null,
   "metadata": {},
   "outputs": [],
   "source": []
  }
 ],
 "metadata": {
  "kernelspec": {
   "display_name": "Python 3",
   "language": "python",
   "name": "python3"
  },
  "language_info": {
   "codemirror_mode": {
    "name": "ipython",
    "version": 3
   },
   "file_extension": ".py",
   "mimetype": "text/x-python",
   "name": "python",
   "nbconvert_exporter": "python",
   "pygments_lexer": "ipython3",
   "version": "3.7.0"
  }
 },
 "nbformat": 4,
 "nbformat_minor": 2
}
