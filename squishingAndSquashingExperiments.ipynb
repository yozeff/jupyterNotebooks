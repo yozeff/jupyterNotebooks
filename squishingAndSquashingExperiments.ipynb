{
 "cells": [
  {
   "cell_type": "markdown",
   "metadata": {},
   "source": [
    "## Joseph Harrison 2019\n",
    "# Altered Sigmoid Function\n",
    "In this document, I will derive a function, $\\sigma$, that will take as input a range $y$, a real number $z$ and a real number $x$, and will compress $x$ within the range $y$, where positive and negative $z$ return 0 and $y$, respectively. We can state a tentative function as the following:\n",
    "\n",
    "$$\\sigma(x,y,z) = \\frac {y}  {1 + e ^{-\\frac {x} {z}}}$$\n",
    "\n",
    "The altered sigmoid function is compared against sigmoid here:"
   ]
  },
  {
   "cell_type": "code",
   "execution_count": 5,
   "metadata": {},
   "outputs": [
    {
     "data": {
      "application/vnd.jupyter.widget-view+json": {
       "model_id": "66143cf73b7f45a6993613b4c34762f8",
       "version_major": 2,
       "version_minor": 0
      },
      "text/plain": [
       "interactive(children=(FloatSlider(value=1.0, description='yarg', max=3.0, min=-1.0), FloatSlider(value=1.0, de…"
      ]
     },
     "metadata": {},
     "output_type": "display_data"
    }
   ],
   "source": [
    "import math as m\n",
    "import matplotlib.pyplot as plt\n",
    "from ipywidgets import interact\n",
    "\n",
    "#sigmoid and altered sigmoid\n",
    "sigmoid = lambda x: 1 / (1 + m.e ** -x)\n",
    "altsigmoid = lambda x,y,z: y / (1 + m.e ** -(x * (1 / z)))\n",
    "lower, upper = -30,30\n",
    "\n",
    "@interact(yarg=1.0,zarg=1.0)\n",
    "def plot_functions(yarg,zarg):\n",
    "\n",
    "    #creating sigmoid and altered sigmoid data\n",
    "    sigdatax, sigdatay = zip(*[(x,sigmoid(x)) for x in range(lower,upper)])\n",
    "    altdatax, altdatay = zip(*[(x,altsigmoid(x,yarg,zarg)) for x in range(lower,upper)])\n",
    "\n",
    "    #plotting functions\n",
    "    plt.plot(sigdatax,sigdatay,label='sigmoid')\n",
    "    plt.plot(altdatax,altdatay,label='altered sigmoid')\n",
    "    plt.legend()\n",
    "    plt.xlabel('x'); plt.ylabel('σ(x)')\n",
    "    plt.title('sigmoid and altered sigmoid functions')\n",
    "    plt.show()"
   ]
  },
  {
   "cell_type": "markdown",
   "metadata": {},
   "source": [
    "However, when we analyse the $x$ value, $\\phi$, that maximises $\\sigma$, we see that it is not equal to $z$. From the previous plot, we can see that it is still affected by $z$. I will now investigate the relationship between $z$, $y$ and $\\phi$."
   ]
  },
  {
   "cell_type": "code",
   "execution_count": 2,
   "metadata": {},
   "outputs": [
    {
     "data": {
      "application/vnd.jupyter.widget-view+json": {
       "model_id": "18338f2f1b9a48489f9ec5449266719f",
       "version_major": 2,
       "version_minor": 0
      },
      "text/plain": [
       "interactive(children=(FloatSlider(value=1.0, description='yarg', max=3.0, min=-1.0), FloatSlider(value=1.0, de…"
      ]
     },
     "metadata": {},
     "output_type": "display_data"
    }
   ],
   "source": [
    "@interact(yarg=1.0,zarg=1.0,dx=0.5,plot=True)\n",
    "def get_phi(yarg,zarg,dx,plot):\n",
    "    if zarg > 0 and dx > 0:\n",
    "        #we have reach a maximum once\n",
    "        #σ(x) = y\n",
    "        x = 0\n",
    "        while altsigmoid(x,yarg,zarg) != yarg:\n",
    "            x += dx\n",
    "        if plot:\n",
    "            plot_functions(yarg,zarg)\n",
    "        return x\n",
    "    else:\n",
    "        return 'undefined'"
   ]
  },
  {
   "cell_type": "markdown",
   "metadata": {},
   "source": [
    "We can see that $y$ has no effect on $\\phi$. Thus, plotting $\\phi$ against $z$, we can obtain an equation for $\\phi$ in terms of $z$."
   ]
  },
  {
   "cell_type": "code",
   "execution_count": 3,
   "metadata": {},
   "outputs": [
    {
     "data": {
      "application/vnd.jupyter.widget-view+json": {
       "model_id": "74c805d14d6443f6b44652038f651f01",
       "version_major": 2,
       "version_minor": 0
      },
      "text/plain": [
       "interactive(children=(FloatSlider(value=1.0, description='yarg', max=3.0, min=-1.0), FloatSlider(value=0.5, de…"
      ]
     },
     "metadata": {},
     "output_type": "display_data"
    }
   ],
   "source": [
    "@interact(yarg=1.0,dx=0.5)\n",
    "def phi_z_relation(yarg,dx):\n",
    "    \n",
    "    if dx > 0:\n",
    "        #producing data by iterating over z\n",
    "        datax, datay = zip(*[(z,get_phi(yarg,z,dx,False)) for z in range(1,10)])\n",
    "\n",
    "        #plotting data\n",
    "        plt.plot(datax,datay)\n",
    "        plt.title('ϕ against z')\n",
    "        plt.xlabel('z'); plt.ylabel('ϕ')\n",
    "        plt.show()\n",
    "\n",
    "        #constant of proportionality\n",
    "        #and intercept\n",
    "        k = (datay[-1] - datay[0]) / (datax[-1] - datax[0])\n",
    "        c = datay[-1] - k * datax[-1]\n",
    "        print(f'k: {k}\\nc: {c}')\n",
    "    else:\n",
    "        print('undefined')"
   ]
  },
  {
   "cell_type": "markdown",
   "metadata": {},
   "source": [
    "As we can see, the constant of proportionality, $k$, and the intercept, $c$, oscillate as the value of $dx$ is varied. Despite this, we will define our true values:\n",
    "\n",
    "$$dx = 1 \\implies k = 36.75, c = 0.25$$\n",
    "\n",
    "And define our new altered sigmoid function, $\\delta$:\n",
    "\n",
    "$$\\phi=36.75z + 0.25$$\n",
    "\n",
    "$$z = \\frac {\\phi - 0.25} {36.75}$$\n",
    "\n",
    "$$\\sigma(x,y,z) = \\frac {y}  {1 + e ^{-\\frac {x} {z}}} \\implies \\frac {y} {1 + e ^{-\\frac {36.75x} {\\phi - 0.25}}} = \\delta(x,y,\\phi)$$\n",
    "\n",
    "And, for convenience, its partial derivative with respect to $x$:\n",
    "\n",
    "$$\\frac {\\partial\\delta} {\\partial x} = \\frac {36.75ye^{-\\frac {36.75x} {\\phi - 0.25}}}  {(\\phi - 0.25)(e^{-\\frac {36.75x} {\\phi - 0.25}} + 1)}$$"
   ]
  },
  {
   "cell_type": "markdown",
   "metadata": {},
   "source": [
    "And now plotting our $\\delta$ function:"
   ]
  },
  {
   "cell_type": "code",
   "execution_count": 4,
   "metadata": {},
   "outputs": [
    {
     "data": {
      "application/vnd.jupyter.widget-view+json": {
       "model_id": "bb7ca7ff446042499daf4f582ae438d9",
       "version_major": 2,
       "version_minor": 0
      },
      "text/plain": [
       "interactive(children=(FloatSlider(value=1.0, description='yarg', max=3.0, min=-1.0), IntSlider(value=100, desc…"
      ]
     },
     "metadata": {},
     "output_type": "display_data"
    }
   ],
   "source": [
    "altsigmoid = lambda x,y,phi: y / (1 + m.e ** -((36.75 * x) / (phi - 0.25)))\n",
    "\n",
    "@interact(yarg=1.0,phiarg=100,bound=50)\n",
    "def plot_functions(yarg,phiarg,bound):\n",
    "\n",
    "    #creating sigmoid and altered sigmoid data\n",
    "    sigdatax, sigdatay = zip(*[(x,sigmoid(x)) for x in range(-bound,bound)])\n",
    "    altdatax, altdatay = zip(*[(x,altsigmoid(x,yarg,phiarg)) for x in range(-bound,bound)])\n",
    "\n",
    "    #plotting functions\n",
    "    plt.plot(sigdatax,sigdatay,label='sigmoid')\n",
    "    plt.plot(altdatax,altdatay,label='altered sigmoid')\n",
    "    plt.legend()\n",
    "    plt.xlabel('x'); plt.ylabel('δ(x)')\n",
    "    plt.title('sigmoid and altered sigmoid functions')\n",
    "    plt.show()"
   ]
  },
  {
   "cell_type": "markdown",
   "metadata": {},
   "source": [
    "We have finished defining altered sigmoid, giving us a function, $\\delta$, that takes in three parameters, $x$, $y$ and $\\phi$, and compresses $x$ between a range of $0$ and $y$, where values of $-\\phi$ and $\\phi$ define the minima and maxima of this range, respectively. "
   ]
  }
 ],
 "metadata": {
  "kernelspec": {
   "display_name": "Python 3",
   "language": "python",
   "name": "python3"
  },
  "language_info": {
   "codemirror_mode": {
    "name": "ipython",
    "version": 3
   },
   "file_extension": ".py",
   "mimetype": "text/x-python",
   "name": "python",
   "nbconvert_exporter": "python",
   "pygments_lexer": "ipython3",
   "version": "3.7.0"
  }
 },
 "nbformat": 4,
 "nbformat_minor": 2
}
